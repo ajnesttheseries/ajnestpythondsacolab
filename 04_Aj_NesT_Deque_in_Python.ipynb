{
  "nbformat": 4,
  "nbformat_minor": 0,
  "metadata": {
    "colab": {
      "name": "04 Aj. NesT Deque in Python",
      "provenance": [],
      "collapsed_sections": []
    },
    "kernelspec": {
      "name": "python3",
      "display_name": "Python 3"
    }
  },
  "cells": [
    {
      "cell_type": "markdown",
      "metadata": {
        "id": "o2ZuxnuhCONt"
      },
      "source": [
        "# Data Structures and Algorithms\n",
        "\n",
        "**Todsapon Banklongsi (Aj. NesT the Series)**\n",
        "\n",
        "Facebook: [Aj. NesT the Series](https://www.facebook.com/ajnesttheseries)\n",
        "\n",
        "YouTube: [Aj. NesT the Series](https://www.youtube.com/ajnesttheseries)"
      ]
    },
    {
      "cell_type": "markdown",
      "metadata": {
        "id": "Wy5-zhn3Cjg3"
      },
      "source": [
        "## Deque: Double-Ended Queue (FLO)\n",
        "\n",
        "**A Deque (pronounced “deck”), also known as a Double-Ended Queue**, is an ordered collection of items similar to the Queue but **It has two ends, a front, and a rear**. **We can add or remove the items from the front and read end of a Deque data structure.**\n",
        "\n",
        "![alt text](https://pythontic.com/deque.jpg)\n",
        "\n",
        "Image: pythontic\n",
        "\n",
        "![alt text](http://1.bp.blogspot.com/-t-Ru4Z3N6EM/US1QxDRbLMI/AAAAAAAAA18/mPPIWieBitA/s1600/deque.PNG)\n",
        "\n",
        "Image: blogspot"
      ]
    },
    {
      "cell_type": "markdown",
      "metadata": {
        "id": "-oLp7el-IZks"
      },
      "source": [
        "### Deque Exercise 1: Creating Deque and Deque Operations 1\n",
        "\n",
        "**Operations on deque :**\n",
        "\n",
        "**1. append()** :- This function is used to insert the value in its argument to the right end of deque.\n",
        "\n",
        "**2. appendleft()** :- This function is used to insert the value in its argument to the left end of deque.\n",
        "\n",
        "**3. pop()** :- This function is used to delete an argument from the right end of deque.\n",
        "\n",
        "**4. popleft()** :- This function is used to delete an argument from the left end of deque\n",
        "\n",
        "Source: geeksforgeeks\n",
        "\n",
        "![alt text](http://3.bp.blogspot.com/-Y_o95RMT0J8/Uw-QhbjCWeI/AAAAAAAACJs/Gbqrw-KuFPk/s1600/Dequeue+Represented+Using+a+Circular+Array.JPG)\n",
        "\n",
        "Image: thecrazyprogrammer"
      ]
    },
    {
      "cell_type": "code",
      "metadata": {
        "id": "JUNlaSs2I-0w",
        "colab": {
          "base_uri": "https://localhost:8080/",
          "height": 101
        },
        "outputId": "0c054c3d-a746-4eef-9340-7ff65022bead"
      },
      "source": [
        "#Deque Exercise 1: Creating Deque and Deque Operations 1\n",
        "#append(), appendleft(), pop(), and popleft() \n",
        "#Importing \"collections\" for deque operations\n",
        "import collections\n",
        "deque1 = collections.deque([11, 3, 9])\n",
        "print(deque1)\n",
        "deque1.append(4)\n",
        "print(deque1)\n",
        "deque1.appendleft(5)\n",
        "print(deque1)\n",
        "deque1.pop()\n",
        "print(deque1)\n",
        "deque1.popleft()\n",
        "print(deque1)"
      ],
      "execution_count": null,
      "outputs": [
        {
          "output_type": "stream",
          "text": [
            "deque([11, 3, 9])\n",
            "deque([11, 3, 9, 4])\n",
            "deque([5, 11, 3, 9, 4])\n",
            "deque([5, 11, 3, 9])\n",
            "deque([11, 3, 9])\n"
          ],
          "name": "stdout"
        }
      ]
    },
    {
      "cell_type": "markdown",
      "metadata": {
        "id": "ug90w1vAMADj"
      },
      "source": [
        "### Deque Exercise 2: Creating Deque and Deque Operations 2\n",
        "\n",
        "**5. index(element, start, end)** :- This function returns the first index of the value mentioned in arguments, starting searching from start till end index.\n",
        "\n",
        "**6. insert(index, arguments)**:- This function inserts the value mentioned in arguments(a) at index(i) specified in arguments.\n",
        "\n",
        "**7. remove()** :- This function removes the first occurrence of value mentioned in arguments.\n",
        "\n",
        "**8. count()** :- This function counts the number of occurrences of value mentioned in arguments.\n",
        "\n",
        "Source: geeksforgeeks"
      ]
    },
    {
      "cell_type": "code",
      "metadata": {
        "id": "GHyaACvQJfGp",
        "colab": {
          "base_uri": "https://localhost:8080/",
          "height": 101
        },
        "outputId": "b9568c7f-eb59-450c-f075-013a2f29d3e7"
      },
      "source": [
        "#Deque Exercise 2: Creating Deque and Deque Operations 2\n",
        "#index(), insert(), remove(), count() \n",
        "#Imporing \"Collections\" for deque operations\n",
        "import collections\n",
        "\n",
        "deque2 = collections.deque([1, 2, 3, 3, 4, 2, 4])\n",
        "print(deque2)\n",
        "print(deque2.index(4, 2, 5)) #element, start, end of posoitions\n",
        "deque2.insert(4, 6) #index, arguments\n",
        "print(deque2)\n",
        "print(deque2.count(3))\n",
        "deque2.remove(6)\n",
        "print(deque2)"
      ],
      "execution_count": null,
      "outputs": [
        {
          "output_type": "stream",
          "text": [
            "deque([1, 2, 3, 3, 4, 2, 4])\n",
            "4\n",
            "deque([1, 2, 3, 3, 6, 4, 2, 4])\n",
            "2\n",
            "deque([1, 2, 3, 3, 4, 2, 4])\n"
          ],
          "name": "stdout"
        }
      ]
    },
    {
      "cell_type": "markdown",
      "metadata": {
        "id": "kxISW91lQkFD"
      },
      "source": [
        "### Deque Exercise 3: Creating Deque and Deque Operations 3\n",
        "\n",
        "**9. extend(iterable)** :- This function is used to add multiple values at the right end of deque. The argument passed is an iterable.\n",
        "\n",
        "**10. extendleft(iterable)** :- This function is used to add multiple values at the left end of deque. The argument passed is an iterable. Order is reversed as a result of left appends.\n",
        "\n",
        "**11. reverse()** :- This function is used to reverse order of deque elements.\n",
        "\n",
        "**12. rotate()** :- This function rotates the deque by the number specified in arguments. If the number specified is negative, rotation occurs to left. Else rotation is to right.\n",
        "\n",
        "Source: geeksforgeeks"
      ]
    },
    {
      "cell_type": "code",
      "metadata": {
        "id": "B_y_oJQ5Q8BA",
        "colab": {
          "base_uri": "https://localhost:8080/",
          "height": 134
        },
        "outputId": "09c4d15a-cf97-420d-af1b-426dd9b53045"
      },
      "source": [
        "#Deque Exercise 3: Creating Deque and Deque Operations 3 \n",
        "#extend(), extendleft(), rotate(), reverse() \n",
        "#Importing \"Collections\" for deque operations\n",
        "import collections\n",
        "\n",
        "deque3 = collections.deque([1, 2, 3])\n",
        "print(deque3)\n",
        "deque3.extend([4, 5, 6])\n",
        "print(deque3)\n",
        "deque3.extendleft([7, 8, 9])\n",
        "print(deque3)\n",
        "deque3.rotate(3)\n",
        "print(deque3)\n",
        "deque3.reverse()\n",
        "print(deque3)\n",
        "deque3.rotate(-3)\n",
        "print(deque3)\n",
        "deque3.reverse()\n",
        "print(deque3)"
      ],
      "execution_count": null,
      "outputs": [
        {
          "output_type": "stream",
          "text": [
            "deque([1, 2, 3])\n",
            "deque([1, 2, 3, 4, 5, 6])\n",
            "deque([9, 8, 7, 1, 2, 3, 4, 5, 6])\n",
            "deque([4, 5, 6, 9, 8, 7, 1, 2, 3])\n",
            "deque([3, 2, 1, 7, 8, 9, 6, 5, 4])\n",
            "deque([7, 8, 9, 6, 5, 4, 3, 2, 1])\n",
            "deque([1, 2, 3, 4, 5, 6, 9, 8, 7])\n"
          ],
          "name": "stdout"
        }
      ]
    }
  ]
}
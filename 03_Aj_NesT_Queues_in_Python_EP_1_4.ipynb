{
  "nbformat": 4,
  "nbformat_minor": 0,
  "metadata": {
    "colab": {
      "name": "03 Aj. NesT Queues in Python EP.1-4",
      "provenance": [],
      "collapsed_sections": []
    },
    "kernelspec": {
      "name": "python3",
      "display_name": "Python 3"
    }
  },
  "cells": [
    {
      "cell_type": "markdown",
      "metadata": {
        "id": "WZyF3A5LATW6"
      },
      "source": [
        "# Data Structures and Algorithms\n",
        "\n",
        "**Todsapon Banklongsi (Aj. NesT the Series)**\n",
        "\n",
        "Facebook: [Aj. NesT the Series](https://www.facebook.com/ajnesttheseries)\n",
        "\n",
        "YouTube: [Aj. NesT the Series](https://www.youtube.com/ajnesttheseries)\n",
        "\n",
        "![alt text](http://res.cloudinary.com/dyd911kmh/image/upload/c_scale,f_auto,q_auto:best,w_700/v1512740202/Template_2_oxrskq.png)\n",
        "\n",
        "Image: DataCamp\n",
        "\n",
        "**Primitve Data Strcutures** คือ ข้อมูลที่ถูกกำหนดคุณสมบัติไว้แล้ว เราไม่สามารถกำหนดเพิ่มหรือสร้างเพิ่มได้อีก \n",
        "\n",
        "--> Ex. Integer, Float, String, Boolean \n",
        "\n",
        "**Non-Primitive Data Structures** คือ\n",
        "คือ ข้อมูลที่ยังไม่ถูกกำหนดคุณสมบัติ เราสามารถสร้างขึ้นมาใหม่และกำหนดคุณสมบัติของชนิดข้อมูลได้\n",
        "\n",
        "--> Ex. Array, List, Tuple, Dictionary, Set, File\n",
        "\n",
        "**Linear Data Structures** หรือ โครงสร้างข้อมูลเชิงเส้น คือ โครงสร้างที่มีการจัดเก็บข้อมูลหรือความสัมพันธ์ของข้อมูลในลักษณะเรียงต่อเนื่องกันเป็นลำดับ\n",
        "\n",
        "--> Ex. Array, List, Stacks, Queues\n",
        "\n",
        "**Non-Linear Data Structures** หรือ โครงสร้างข้อมูลแบบไม่เชิงเส้น คือ โครงสร้างที่มีการจัดเก็บข้อมูลหรือความสัมพันธ์กับข้อมูลอื่นได้หลายตัว\n",
        "\n",
        "--> Ex. Graphs, Trees\n",
        "\n",
        "![alt text](https://miro.medium.com/max/1338/1*Xokk6XOjWyIGCBujkJsCzQ.jpeg)\n",
        "\n",
        "Image: Medium written by Vaidehi Joshi\n",
        "\n",
        "## Non-Primitive --> List --> Linear (Queues)\n",
        "\n",
        "![alt text](https://cdn-media-1.freecodecamp.org/images/1*EhimF7dL04AkpisbKM2LJg.jpeg)\n",
        "\n",
        "Image: freecodecamp.org by Kevin Turney\n",
        "\n",
        "![alt text](http://jcsites.juniata.edu/faculty/kruse/cs240/images/queueof.gif)\n",
        "\n",
        "Image: jcsites.juniata.edu\n",
        "\n",
        "# Queues (FIFO)\n",
        "\n",
        "***Data structures organize storage in computers so that we can efficiently access and change data. Stacks and Queues are some of the earliest data structures defined in computer science.***\n",
        "\n",
        "**A queue is a collection of objects that supports fast First-In, First-Out (FIFO) semantics for inserts and deletes. The insert and delete operations sometimes called enqueue and dequeue. Unlike lists or arrays, queues typically don’t allow for random access to the objects they contain.**\n",
        "\n",
        "Queues have a wide range of applications in algorithms and to solve scheduling, as well as parallel programming problems. A short and beautiful algorithm using a queue is breadth-first search (BFS) on a tree or graph data structure.\n",
        "\n",
        "A good example of a queue is any queue of consumers for a resource where the consumer that came first is served first. The difference between stacks and queues is in removing. In a stack we remove the item the most recently added; in a queue, we remove the item the least recently added.\n",
        "\n",
        "![alt text](https://open4tech.com/wp-content/uploads/2018/12/word-image-1.png)\n",
        "\n",
        "Image: open4tech\n",
        "\n",
        "## Linear Queue\n",
        "\n",
        "**Linear Queue** data and instructions are organize in **a sequential order one after one.**\n",
        "\n",
        "**put = Enqueue**\n",
        "\n",
        "**get = Dequeue**\n",
        "\n",
        "![alt text](https://media1.giphy.com/media/u39xdtzHkn624/giphy.gif)\n",
        "\n",
        "Image: giphy\n",
        "\n",
        "## Circular Queue \n",
        "\n",
        "**Circular Queue** data and instructions are organize in **a circular order where last element is connected with the first element.**\n",
        "\n",
        "![alt text](https://media.giphy.com/media/iSp5E3fpt2fVm/giphy.gif)\n",
        "\n",
        "Image: giphy\n",
        "\n",
        "## Difference between Linear and Circular Queues\n",
        "\n",
        "![alt text](http://pediaa.com/wp-content/uploads/2019/01/Difference-Between-Linear-Queue-and-Circular-Queue-Comparison-Summary.jpg)\n",
        "\n",
        "Image: pediaa.com"
      ]
    },
    {
      "cell_type": "markdown",
      "metadata": {
        "id": "DGMfDUDh6_85"
      },
      "source": [
        "## Queue Exercises "
      ]
    },
    {
      "cell_type": "markdown",
      "metadata": {
        "id": "oDlgSMZR7LoU"
      },
      "source": [
        "###Queue Exercise 1: Creating Queue using list Built-in"
      ]
    },
    {
      "cell_type": "code",
      "metadata": {
        "id": "nL-cnpj7-oi1",
        "colab": {
          "base_uri": "https://localhost:8080/",
          "height": 302
        },
        "outputId": "f3a6bba7-29a7-451d-e977-9c7217fc4416"
      },
      "source": [
        "#Queue Exercise 1: Creating Stack using list Built-in --> queue = Empty\n",
        "queue1 = []\n",
        "queue1.append(555) #append = enqueue\n",
        "print(queue1)\n",
        "queue1.append(\"Python\")\n",
        "print(queue1)\n",
        "queue1.append(\"Programming\")\n",
        "print(queue1)\n",
        "queue1.append(\"Aj.NesT\")\n",
        "print(queue1)\n",
        "queue1.append(\"love\")\n",
        "print(queue1)\n",
        "queue1.pop(0) #pop(0) = dequeue\n",
        "print(queue1)\n",
        "queue1.pop(0)\n",
        "print(queue1)\n",
        "queue1.pop(0)\n",
        "print(queue1)\n",
        "queue1.append(\"Data\")\n",
        "print(queue1)\n",
        "queue1.append(\"Structures\")\n",
        "print(queue1)\n",
        "queue1.append(\"and Algorithms\")\n",
        "print(queue1)\n",
        "queue_pop1 = queue1.pop(0)\n",
        "print(queue_pop1)\n",
        "queue_pop2 = queue1.pop(0)\n",
        "print(queue_pop2)\n",
        "queue_pop3 = queue1.pop(0)\n",
        "print(queue_pop3)\n",
        "queue_pop4 = queue1.pop(0)\n",
        "print(queue_pop4)\n",
        "queue_pop5 = queue1.pop(0)\n",
        "print(queue_pop5)\n",
        "print(queue1)"
      ],
      "execution_count": null,
      "outputs": [
        {
          "output_type": "stream",
          "text": [
            "[555]\n",
            "[555, 'Python']\n",
            "[555, 'Python', 'Programming']\n",
            "[555, 'Python', 'Programming', 'Aj.NesT']\n",
            "[555, 'Python', 'Programming', 'Aj.NesT', 'love']\n",
            "['Python', 'Programming', 'Aj.NesT', 'love']\n",
            "['Programming', 'Aj.NesT', 'love']\n",
            "['Aj.NesT', 'love']\n",
            "['Aj.NesT', 'love', 'Data']\n",
            "['Aj.NesT', 'love', 'Data', 'Structures']\n",
            "['Aj.NesT', 'love', 'Data', 'Structures', 'and Algorithms']\n",
            "Aj.NesT\n",
            "love\n",
            "Data\n",
            "Structures\n",
            "and Algorithms\n",
            "[]\n"
          ],
          "name": "stdout"
        }
      ]
    },
    {
      "cell_type": "markdown",
      "metadata": {
        "id": "O2JTvsvOFl5L"
      },
      "source": [
        "### Queue Exercise 2: Creating Queue using list Built-in --> Automatics\n",
        "\n",
        "![alt text](https://www.javascripttutorial.net/wp-content/uploads/2016/08/JavaScript-Queue-Illustration.png)\n",
        "\n",
        "Image: javascripttutorial.net"
      ]
    },
    {
      "cell_type": "code",
      "metadata": {
        "id": "SepXcBWU-3yU",
        "colab": {
          "base_uri": "https://localhost:8080/",
          "height": 386
        },
        "outputId": "fc079e97-c5fc-4994-f661-3e1b540cc510"
      },
      "source": [
        "#Queue Exercise 2 Creating Queue using list Built-in --> Automatics\n",
        "queue2 = []\n",
        "print('\\nEnqueue items to the Queue')\n",
        "#Enqueue items to the Queue\n",
        "for i in range(9):\n",
        "  queue2.append(i)\n",
        "  print('Current Queue : ', queue2, '\\tQueue Size : ', len(queue2))\n",
        "\n",
        "print('\\nDequeue items from the Queue')\n",
        "#Dequeue items from the Queue\n",
        "while len(queue2) > 0: #Chech if the queue is empty\n",
        "  queue2.pop(0)\n",
        "  print('Current Queue : ', queue2, '\\tQueue Size : ', len(queue2))"
      ],
      "execution_count": null,
      "outputs": [
        {
          "output_type": "stream",
          "text": [
            "\n",
            "Enqueue items to the Queue\n",
            "Current Queue :  [0] \tQueue Size :  1\n",
            "Current Queue :  [0, 1] \tQueue Size :  2\n",
            "Current Queue :  [0, 1, 2] \tQueue Size :  3\n",
            "Current Queue :  [0, 1, 2, 3] \tQueue Size :  4\n",
            "Current Queue :  [0, 1, 2, 3, 4] \tQueue Size :  5\n",
            "Current Queue :  [0, 1, 2, 3, 4, 5] \tQueue Size :  6\n",
            "Current Queue :  [0, 1, 2, 3, 4, 5, 6] \tQueue Size :  7\n",
            "Current Queue :  [0, 1, 2, 3, 4, 5, 6, 7] \tQueue Size :  8\n",
            "Current Queue :  [0, 1, 2, 3, 4, 5, 6, 7, 8] \tQueue Size :  9\n",
            "\n",
            "Dequeue items from the Queue\n",
            "Current Queue :  [1, 2, 3, 4, 5, 6, 7, 8] \tQueue Size :  8\n",
            "Current Queue :  [2, 3, 4, 5, 6, 7, 8] \tQueue Size :  7\n",
            "Current Queue :  [3, 4, 5, 6, 7, 8] \tQueue Size :  6\n",
            "Current Queue :  [4, 5, 6, 7, 8] \tQueue Size :  5\n",
            "Current Queue :  [5, 6, 7, 8] \tQueue Size :  4\n",
            "Current Queue :  [6, 7, 8] \tQueue Size :  3\n",
            "Current Queue :  [7, 8] \tQueue Size :  2\n",
            "Current Queue :  [8] \tQueue Size :  1\n",
            "Current Queue :  [] \tQueue Size :  0\n"
          ],
          "name": "stdout"
        }
      ]
    },
    {
      "cell_type": "markdown",
      "metadata": {
        "id": "Wtjt57n2FyLU"
      },
      "source": [
        "### Queue Exercise 3: Python Queue Implementation --> Creating Queue Class for Calling enqueue() and dequeue()"
      ]
    },
    {
      "cell_type": "code",
      "metadata": {
        "id": "uIN1n0ZgGJ2m",
        "colab": {
          "base_uri": "https://localhost:8080/",
          "height": 101
        },
        "outputId": "e32c77c2-a671-4738-e0e2-628f9d2f23ae"
      },
      "source": [
        "#Queue Exercise 3  Creating Queue Class for Calling enqueue() and dequeue()\n",
        "class Queue:\n",
        "\n",
        "  def __init__(self):\n",
        "    self.queue = []\n",
        "  \n",
        "  def enqueue(self, item):\n",
        "    self.queue.append(item)\n",
        "\n",
        "  def dequeue(self):\n",
        "    if len(self.queue) < 1:\n",
        "      return None\n",
        "    return self.queue.pop(0) \n",
        "  \n",
        "  def size(self):\n",
        "    return len(self.queue)\n",
        "\n",
        "queue3 = Queue()\n",
        "queue3.enqueue('Aj.NesT')\n",
        "queue3.enqueue('teach')\n",
        "queue3.enqueue('Data Structures and Algorithms')\n",
        "queue3.enqueue(101)\n",
        "\n",
        "dequeue_value = queue3.dequeue()\n",
        "print(dequeue_value)\n",
        "dequeue_value = queue3.dequeue()\n",
        "print(dequeue_value)\n",
        "dequeue_value = queue3.dequeue()\n",
        "print(dequeue_value)\n",
        "dequeue_value = queue3.dequeue()\n",
        "print(dequeue_value)\n",
        "dequeue_value = queue3.dequeue()\n",
        "print(dequeue_value)"
      ],
      "execution_count": null,
      "outputs": [
        {
          "output_type": "stream",
          "text": [
            "Aj.NesT\n",
            "teach\n",
            "Data Structures and Algorithms\n",
            "101\n",
            "None\n"
          ],
          "name": "stdout"
        }
      ]
    },
    {
      "cell_type": "markdown",
      "metadata": {
        "id": "_D3_PEXL90qC"
      },
      "source": [
        "### Queue Exercise 4: Cicular Queue Implemenation\n",
        "\n",
        "![alt text](https://media.geeksforgeeks.org/wp-content/uploads/Circular-queue_1.png)\n",
        "\n",
        "Image and Source: geeksforgeeks\n",
        "\n",
        "### Operations on Circular Queue:\n",
        "\n",
        "**Front:** Get the front item from queue.\n",
        "\n",
        "**Rear:** Get the last item from queue.\n",
        "\n",
        "**Enqueue(value)** This function is used to insert an element into the circular queue. In a circular queue, the new element is always inserted at Rear position.\n",
        "\n",
        "**Steps:**\n",
        "\n",
        "1) Check whether queue is Full – Check ((rear == SIZE-1 && front == 0) || (rear == front-1)).\n",
        "\n",
        "2) If it is full then display Queue is full. If queue is not full then, check if (rear == SIZE – 1 && front != 0) if it is true then set rear=0 and insert element.\n",
        "\n",
        "**Dequeue()** This function is used to delete an element from the circular queue. In a circular queue, the element is always deleted from front position.\n",
        "\n",
        "**Steps:**\n",
        "\n",
        "1) Check whether queue is Empty means check (front==-1).\n",
        "\n",
        "2) If it is empty then display Queue is empty. If queue is not empty then step 3\n",
        "\n",
        "3) Check if (front==rear) if it is true then set front=rear= -1 else check if (front==size-1), if it is true then set front=0 and return the element."
      ]
    },
    {
      "cell_type": "code",
      "metadata": {
        "id": "Qtm48TPnJ5q2",
        "colab": {
          "base_uri": "https://localhost:8080/",
          "height": 185
        },
        "outputId": "f0568b70-9af2-4812-e257-f5e5e71dc9aa"
      },
      "source": [
        "#Queue Exercise 4 Circular Queue Implementation\n",
        "class CircularQueue():\n",
        "  #Constructor\n",
        "  def __init__(self, size):\n",
        "    self.size = size\n",
        "    self.queue = [None for i in range(size)]\n",
        "    self.front = self.rear = -1\n",
        "  \n",
        "  def enqueue(self, data):\n",
        "    #Condition if queue is full\n",
        "    if((self.rear + 1) % self.size == self.front):\n",
        "      print(\"Queue is Full\\n\")\n",
        "    \n",
        "    #Condition if emtpy queue\n",
        "    elif(self.front == -1):\n",
        "      self.front = 0\n",
        "      self.rear = 0\n",
        "      self.queue[self.rear] = data\n",
        "    \n",
        "    else:\n",
        "      #Next position of rear\n",
        "      self.rear = (self.rear + 1) % self.size\n",
        "      self.queue[self.rear] = data\n",
        "    \n",
        "  def dequeue(self):\n",
        "      #Condition for empty queue\n",
        "      if(self.front == -1):\n",
        "        print(\"Queue is Empty\\n\")\n",
        "      \n",
        "      #Condition for only one element\n",
        "      elif(self.front == self.rear):\n",
        "        temp = self.queue[self.front]\n",
        "        self.front = -1\n",
        "        self.rear = -1\n",
        "        return temp\n",
        "      \n",
        "      else:\n",
        "        temp = self.queue[self.front]\n",
        "        self.front = (self.front + 1)%self.size\n",
        "        return temp\n",
        "      \n",
        "  def display(self):\n",
        "        #Condition for empty queue\n",
        "        if(self.front == -1):\n",
        "          print(\"Queue is Empty\")\n",
        "        elif(self.rear >= self.front):\n",
        "          print(\"Elements in the Circular Queue are:\", end = \" \")\n",
        "          for i in range(self.front, self.rear + 1):\n",
        "            print(self.queue[i], end = \" \")\n",
        "          print()\n",
        "        else:\n",
        "          print(\"Elements in Circular Queue are:\", end = \" \")\n",
        "          for i in range(self.front, self.size):\n",
        "            print(self.queue[i], end = \" \")\n",
        "          for i in range(0, self.rear + 1):\n",
        "            print(self.queue[i], end = \" \")\n",
        "          print()\n",
        "        if((self.rear + 1) % self.size == self.front):\n",
        "          print(\"Queue is Full\")\n",
        "\n",
        "#Driver Code\n",
        "queue4 = CircularQueue(5)\n",
        "queue4.enqueue(14)\n",
        "queue4.display()\n",
        "queue4.enqueue(22)\n",
        "queue4.display()\n",
        "queue4.enqueue(13)\n",
        "queue4.display()\n",
        "queue4.enqueue(-6)\n",
        "queue4.display()\n",
        "print(\"Deleted Value = \", queue4.dequeue())\n",
        "queue4.display()\n",
        "print(\"Deleted Value = \", queue4.dequeue())\n",
        "queue4.display()\n",
        "queue4.enqueue(9)\n",
        "queue4.enqueue(20)\n",
        "queue4.enqueue(5)\n",
        "queue4.display()"
      ],
      "execution_count": null,
      "outputs": [
        {
          "output_type": "stream",
          "text": [
            "Elements in the Circular Queue are: 14 \n",
            "Elements in the Circular Queue are: 14 22 \n",
            "Elements in the Circular Queue are: 14 22 13 \n",
            "Elements in the Circular Queue are: 14 22 13 -6 \n",
            "Deleted Value =  14\n",
            "Elements in the Circular Queue are: 22 13 -6 \n",
            "Deleted Value =  22\n",
            "Elements in the Circular Queue are: 13 -6 \n",
            "Elements in Circular Queue are: 13 -6 9 20 5 \n",
            "Queue is Full\n"
          ],
          "name": "stdout"
        }
      ]
    }
  ]
}
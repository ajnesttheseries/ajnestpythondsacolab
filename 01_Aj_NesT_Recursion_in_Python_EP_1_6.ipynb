{
  "nbformat": 4,
  "nbformat_minor": 0,
  "metadata": {
    "colab": {
      "name": "01 Aj. NesT Recursion in Python EP.1-6",
      "provenance": [],
      "collapsed_sections": []
    },
    "kernelspec": {
      "name": "python3",
      "display_name": "Python 3"
    }
  },
  "cells": [
    {
      "cell_type": "markdown",
      "metadata": {
        "id": "HRkJAaxP9Dfn"
      },
      "source": [
        "# Data Structures and Algorithms\n",
        "\n",
        "**Todsapon Banklongsi (Aj. NesT the Series)**\n",
        "\n",
        "Facebook: [Aj. NesT the Series](https://www.facebook.com/ajnesttheseries)\n",
        "\n",
        "YouTube: [Aj. NesT the Series](https://www.youtube.com/ajnesttheseries)\n",
        "\n",
        "# Recursion in Python\n",
        "**\"Of all ideas I have introduced to children, recursion stands out as the one idea that is particularly able to evoke an excited response.\"**\n",
        "\n",
        "\"จากความคิดทั้งหมดที่ฉันจะแนะนำให้เด็ก ๆ รู้จัก การเรียกซ้ำมีความโดดเด่นคือเป็นแนวคิดเดียวที่สามารถทำให้เกิดการตอบสนองที่น่าตื่นเต้น\"\n",
        "\n",
        "— Seymour Papert, Mindstorms\n"
      ]
    },
    {
      "cell_type": "markdown",
      "metadata": {
        "id": "E-IZBkzD9G2R"
      },
      "source": [
        "![alt text](https://theburningmonk.com/wp-content/uploads/2017/08/recursion-01.png)\n",
        "\n",
        "Image: theburningmonk.com\n",
        "\n",
        "[Example: Recursion](http://i.imgur.com/jk4TT3n.gif)\n",
        "\n",
        "## Recursive Functions and Recursive Data Structures\n",
        "\n",
        "**What are you working on?**\n",
        "\n",
        "trying to fix the problems I created when I tried to fix the problems I created when I tried to fix the problems I created when...\n",
        "![alt text](https://files.realpython.com/media/fixing_problems.ffd6d34e887e.png)\n",
        "\n",
        "Image: xkcd.com"
      ]
    },
    {
      "cell_type": "markdown",
      "metadata": {
        "id": "Qh8YJh3CvLOE"
      },
      "source": [
        "## Recursion Exercises "
      ]
    },
    {
      "cell_type": "markdown",
      "metadata": {
        "id": "EXUzFgZ9Dxpu"
      },
      "source": [
        "### Exercise 1: Iterative Products Delivery\n",
        "เขียนโปรแกรมส่งของแบบ Iteration หรือการทำซ้ำ ผู้ส่งจะต้องส่งของด้วยตัวเองทุกครั้ง\n",
        "\n",
        "![alt text](https://files.realpython.com/media/santa_claus_2.ecbf2686f1a1.png)\n",
        "\n",
        "Image: realpython.com"
      ]
    },
    {
      "cell_type": "code",
      "metadata": {
        "id": "EIXMeg5Q2-nO",
        "colab": {
          "base_uri": "https://localhost:8080/",
          "height": 90
        },
        "outputId": "75d569e5-1d4b-478f-eece-255eb5a50eaa"
      },
      "source": [
        "#Recursive Exercise 1 Iterative Products Delivery\n",
        "houses = [\"Nadech's House\", \"Yaya's House\", \"Aj.NesT's House\", \"Mario's House\"]\n",
        "def deliver_products_iteratively():\n",
        "    for house in houses:\n",
        "        print(\"Delivering products to\", house)\n",
        "#Call Iterative Functions\n",
        "deliver_products_iteratively()"
      ],
      "execution_count": null,
      "outputs": [
        {
          "output_type": "stream",
          "text": [
            "Delivering products to Nadech's House\n",
            "Delivering products to Yaya's House\n",
            "Delivering products to Aj.NesT's House\n",
            "Delivering products to Mario's House\n"
          ],
          "name": "stdout"
        }
      ]
    },
    {
      "cell_type": "markdown",
      "metadata": {
        "id": "yCdWFNa92E0X"
      },
      "source": [
        "### Exercise 2: Recursive Products Delivery\n",
        "\n",
        "พัฒนา Algorithm ของโปรแกรมให้ดีขึ้นโดยแบ่งงานให้คนอื่นมาช่วยส่งของให้แทน \n",
        "\n",
        "**การแบ่งปัญหาใหญ่ให้เป็นปัญหาย่อย จะนิยมใช้ Recursive Algorithms** \n",
        "\n",
        "1) แต่งตั้งพนักงงานส่งของและมอบงานทั้งหมดให้ \n",
        "\n",
        "2) กำหนดชื่อและความรับผิดชอบให้กับพนักงงานส่งของตามจำนวนบ้านที่พวกเขารับผิดชอบ\n",
        "\n",
        "**โดยสร้างเงื่อนไข**\n",
        "\n",
        "ถ้ามากกว่า 1 หลัง จะมีผู้จัดการ (Manager) ค่อยแต่งตั้งและแบ่งงานให้พนักงานช่วยกันส่งของ  \n",
        "\n",
        "ถ้าเท่ากับ 1 หลัง พนักงาน (Worker) ส่งของจะทำการส่งของให้กับบ้านที่ได้รับมอบหมายเอง\n",
        "\n",
        "### The Structure of a Recursive Algorithm\n",
        "\n",
        "Divide it into subproblems and apply the same strategy\n",
        "\n",
        "![alt text](https://files.realpython.com/media/elves_7.8d1af1cd85c8.png)\n",
        "\n",
        "Image: realpython.com\n",
        "\n",
        "### All Recursive Functions share a common structure made up of 2 parts:\n",
        "\n",
        "**1) Base Case**\n",
        "\n",
        "**2) Recursive Case**"
      ]
    },
    {
      "cell_type": "code",
      "metadata": {
        "id": "nyoMn6fc3Jsi",
        "colab": {
          "base_uri": "https://localhost:8080/",
          "height": 84
        },
        "outputId": "aa9a82b7-eaf8-4727-a012-ef011f3517a3"
      },
      "source": [
        "#Recursive Exercise 2\n",
        "houses = [\"Nadech's House\", \"Yaya's House\", \"Aj.NesT's House\", \"Mario's House\"]\n",
        "def deliver_products_recursively(houses):\n",
        "    #Worker doing his work --> Base Case == 1\n",
        "    if len(houses) == 1:\n",
        "        house = houses[0]\n",
        "        print(\"Delivering products to\", house)\n",
        "    #Manager doing his work --> Recursive Case\n",
        "    else:\n",
        "        mid = len(houses) // 2\n",
        "        first_half = houses[:mid]\n",
        "        second_half = houses[mid:]\n",
        "        #Divides his work among two workers\n",
        "        deliver_products_recursively(first_half)\n",
        "        deliver_products_recursively(second_half)\n",
        "#Call Recursive Functions\n",
        "deliver_products_recursively(houses)"
      ],
      "execution_count": null,
      "outputs": [
        {
          "output_type": "stream",
          "text": [
            "Delivering products to Nadech's House\n",
            "Delivering products to Yaya's House\n",
            "Delivering products to Aj.NesT's House\n",
            "Delivering products to Mario's House\n"
          ],
          "name": "stdout"
        }
      ]
    },
    {
      "cell_type": "markdown",
      "metadata": {
        "id": "y9OUxHPJ_9bE"
      },
      "source": [
        "### Exercise 3: Calculating Factorial \n",
        "\n",
        "เขียนโปรแกรมการคำนวณ Factorial n!\n",
        "\n",
        "เช่น \n",
        "\n",
        "5! = 5 x 4 x 3 x 2 x 1 = 120\n",
        "\n",
        "6! = 6 x 5 x 4 x 3 x 2 x 1 = 720\n",
        "```\n",
        "1! = 1\n",
        "n! = n x (n−1) x (n−2) x (n−3) ⋅⋅⋅⋅ x 3 x 2 x 1\n",
        "n! = n x (n−1)!\n",
        "```\n",
        "![alt text](https://techstuffssite.files.wordpress.com/2016/04/top-5-programming-animated-gifs_recursion-animted-gif.gif?w=430&zoom=2)"
      ]
    },
    {
      "cell_type": "code",
      "metadata": {
        "id": "6smrg35p3PlL",
        "colab": {
          "base_uri": "https://localhost:8080/",
          "height": 34
        },
        "outputId": "418ad871-0df5-476e-c741-b317092a9f9e"
      },
      "source": [
        "#Recursive Exercise 3\n",
        "def factorial_recursive(n):\n",
        "    #Base Case: 1! = 1\n",
        "    if n == 1:\n",
        "        return 1\n",
        "    #Recursive Case: n! = n * (n-1)!\n",
        "    else:\n",
        "        return n * factorial_recursive(n-1)\n",
        "#Call Factorial Recursive Function\n",
        "factorial_recursive(12)"
      ],
      "execution_count": null,
      "outputs": [
        {
          "output_type": "execute_result",
          "data": {
            "text/plain": [
              "479001600"
            ]
          },
          "metadata": {
            "tags": []
          },
          "execution_count": 10
        }
      ]
    },
    {
      "cell_type": "markdown",
      "metadata": {
        "id": "D4XxLFdMHGRu"
      },
      "source": [
        "### Exercise 4: Maintaining State --> Sum Recursive\n",
        "\n",
        "เขียนโปรแกรมการคำนวณ Sum ค่าตัวเองไปเรื่อย ๆ\n",
        "\n",
        "เช่น \n",
        "\n",
        "1 + 2 + 3 + 4 + 5 + 6 + 7 + 8 + 9 + 10 = 55\n",
        "\n",
        "1 + 2 + 3 + 4 + 5 + 6 + 7 + 8 + 9 + 10 + 11 + 12 = 78\n",
        "\n",
        "![alt text](https://files.realpython.com/media/state_3.3e8a68c4fde5.png)\n",
        "\n",
        "Image: realpython.com"
      ]
    },
    {
      "cell_type": "code",
      "metadata": {
        "id": "JRi1EzZz3Xoi",
        "colab": {
          "base_uri": "https://localhost:8080/",
          "height": 34
        },
        "outputId": "1399c0ae-96fc-47f4-c2fa-26e6a21432e0"
      },
      "source": [
        "#Recursive Exercise 4.1 Assign Arguments\n",
        "def sum_recursive(current_number, accumulated_sum):\n",
        "    #Base Case\n",
        "    #Return the Final State\n",
        "    if current_number == 11:\n",
        "        return accumulated_sum\n",
        "    #Recursive Case\n",
        "    #Thread the state through the Recursive Call\n",
        "    else:\n",
        "        return sum_recursive(current_number + 1, accumulated_sum + current_number)\n",
        "#Call Sum Recursive Function\n",
        "sum_recursive(1,0)"
      ],
      "execution_count": null,
      "outputs": [
        {
          "output_type": "execute_result",
          "data": {
            "text/plain": [
              "55"
            ]
          },
          "metadata": {
            "tags": []
          },
          "execution_count": 20
        }
      ]
    },
    {
      "cell_type": "code",
      "metadata": {
        "id": "RqNypJtU3dOI",
        "colab": {
          "base_uri": "https://localhost:8080/",
          "height": 34
        },
        "outputId": "6552669f-55f2-4f20-8c57-a3d305787bff"
      },
      "source": [
        "#Recursive Exercise 4.2 Global Mutable State\n",
        "current_number = 1\n",
        "accumulated_sum = 0\n",
        "\n",
        "def sum_recursive():\n",
        "    global current_number\n",
        "    global accumulated_sum\n",
        "    #Base Case\n",
        "    if current_number == 11:\n",
        "        return accumulated_sum\n",
        "    #Recursive Case\n",
        "    else:\n",
        "        accumulated_sum = accumulated_sum + current_number\n",
        "        current_number = current_number + 1\n",
        "        return sum_recursive()\n",
        "#Call Sum Recursive Function\n",
        "sum_recursive()"
      ],
      "execution_count": null,
      "outputs": [
        {
          "output_type": "execute_result",
          "data": {
            "text/plain": [
              "55"
            ]
          },
          "metadata": {
            "tags": []
          },
          "execution_count": 19
        }
      ]
    },
    {
      "cell_type": "code",
      "metadata": {
        "id": "rtTJcRPP3ouJ",
        "colab": {
          "base_uri": "https://localhost:8080/",
          "height": 34
        },
        "outputId": "163ea9e8-a139-4272-d995-6743463c2455"
      },
      "source": [
        "#Recursive Exercise 4.3 A List is an example of a Recursive Data Structure\n",
        "def list_sum_recursive(input_list):\n",
        "    #Base Case\n",
        "    if input_list == []:\n",
        "        return 0\n",
        "    #Recursive Case\n",
        "    else:\n",
        "        head = input_list[0]\n",
        "        smaller_list = input_list[1:]\n",
        "        return head + list_sum_recursive(smaller_list)\n",
        "#Call List Sum Recursive Function\n",
        "list_sum_recursive([1, 2, 6, 14, 25, 36, 87, 98, 129, 310])"
      ],
      "execution_count": null,
      "outputs": [
        {
          "output_type": "execute_result",
          "data": {
            "text/plain": [
              "708"
            ]
          },
          "metadata": {
            "tags": []
          },
          "execution_count": 22
        }
      ]
    },
    {
      "cell_type": "markdown",
      "metadata": {
        "id": "UaZBY5tWLafI"
      },
      "source": [
        "### Exercise 5: List Input of a Recursive Data Structure\n",
        "\n",
        "เขียนโปรแกรมโดยใช้ Input แบบ List มาประยุกต์ใช้ในโครงสร้างแบบ Recursion\n",
        "\n",
        "![alt text](https://files.realpython.com/media/list.3df62a89243d.gif)\n",
        "\n",
        "Image: realpython.com"
      ]
    },
    {
      "cell_type": "code",
      "metadata": {
        "id": "oM6_KYhq34AY",
        "colab": {
          "base_uri": "https://localhost:8080/",
          "height": 34
        },
        "outputId": "838557d2-22f1-4a0e-b486-4f6a4bc2e575"
      },
      "source": [
        "#Recursive Exercise 5.1 \n",
        "def attach_head(element, input_list):\n",
        "    return [element] + input_list\n",
        "#Call List of Recursive Function\n",
        "#attach_head('I', attach_head(\"Love\", attach_head(\"Recursion\", attach_head(555, []))))\n",
        "attach_head('I',                                            #(4) Will return ['I', \"Love\", \"Recursion\", 555]\n",
        "            attach_head(\"Love\",                             #(3) Will return [\"Love\", \"Recursion\", 555]\n",
        "                        attach_head(\"Recursion\",            #(2) Will return [\"Recursion\", 555]\n",
        "                                    attach_head(555, [])))) #(1) Will return [555]"
      ],
      "execution_count": null,
      "outputs": [
        {
          "output_type": "execute_result",
          "data": {
            "text/plain": [
              "['I', 'Love', 'Recursion', 555]"
            ]
          },
          "metadata": {
            "tags": []
          },
          "execution_count": 25
        }
      ]
    },
    {
      "cell_type": "markdown",
      "metadata": {
        "id": "Vh5Zc7ANUjxw"
      },
      "source": [
        "![alt text](https://blog.penjee.com/wp-content/uploads/2016/05/recursion-with-code-and-animation_minimized.gif)"
      ]
    },
    {
      "cell_type": "code",
      "metadata": {
        "id": "vrXKmMYE4BF3",
        "colab": {
          "base_uri": "https://localhost:8080/",
          "height": 185
        },
        "outputId": "a3bf8fe6-66f9-4ccf-f43f-4c4016056c16"
      },
      "source": [
        "#Recursive Exercise 5.2\n",
        "Line = [1, 2, 3, 4, 5, 6, 7, 8, 9]\n",
        "def howmanyin(lst):\n",
        "    if lst[1:]:\n",
        "        print(\"me and the guys behind\")\n",
        "        return 1 + howmanyin(lst[1:])\n",
        "    else:\n",
        "        print(\"just me\")\n",
        "        return 1\n",
        "#Call Recursive Function\n",
        "howmanyin(Line)"
      ],
      "execution_count": null,
      "outputs": [
        {
          "output_type": "stream",
          "text": [
            "me and the guys behind\n",
            "me and the guys behind\n",
            "me and the guys behind\n",
            "me and the guys behind\n",
            "me and the guys behind\n",
            "me and the guys behind\n",
            "me and the guys behind\n",
            "me and the guys behind\n",
            "just me\n"
          ],
          "name": "stdout"
        },
        {
          "output_type": "execute_result",
          "data": {
            "text/plain": [
              "9"
            ]
          },
          "metadata": {
            "tags": []
          },
          "execution_count": 31
        }
      ]
    },
    {
      "cell_type": "markdown",
      "metadata": {
        "id": "PwpWY8ihS-qo"
      },
      "source": [
        "### Exercise 6: Fibonacci\n",
        "\n",
        "Fibonacci Numbers นำตัวเลขสองตัวมาบวกกัน --> 1, 1, 2, 3, 5, 8, 13, 21, 34, 55, 89, 144, 233, ...\n",
        "\n",
        "144/233 = 0.618, 89/233 = 0.382, 55/233 = 0.236, ...\n",
        "\n",
        "**0.236, 0.382, 0.618, 1, 1.618, 2.618, ...**\n",
        "\n",
        "คือสัดส่วนที่พบในธรรมชาติ เช่น นำมาประยุกต์ใช้ในการเทรดหุ้นสร้างเส้นแนวรับและแนวต้าน หรือออกแบบงานศิลปะ Golden Ratio 1.618\n",
        "\n",
        "![alt text](https://www.indyforex.com/wp-content/uploads/2016/04/1460777128109.jpg)\n",
        "\n",
        "เขียนโปรแกรมโดยใช้ Input แบบ List มาประยุกต์ใช้ในโครงสร้างแบบ Recursion\n",
        "\n",
        "![alt text](https://www.mathwarehouse.com/programming/images/fibonacci-recursion-demonstration-animation-python.gif)"
      ]
    },
    {
      "cell_type": "code",
      "metadata": {
        "id": "_1OEk3oy4F_g",
        "colab": {
          "base_uri": "https://localhost:8080/",
          "height": 487
        },
        "outputId": "47c667e2-3085-4b18-8049-a2a3e22bc139"
      },
      "source": [
        "#Recursive Exercise 6\n",
        "def fibonacci_recursive(n):\n",
        "    #Base Case\n",
        "    if n <= 1:\n",
        "        return n\n",
        "    #Recursive Case\n",
        "    else:\n",
        "        return(fibonacci_recursive(n-1) + fibonacci_recursive(n-2))\n",
        "#Take input from the user คำสั่งให้ User ใส่ข้อมูล\n",
        "nterms = int(input(\"How many terms? \"))\n",
        "#Check if the number of terms is valid\n",
        "if nterms <= 0:\n",
        "    print(\"Please enter a positive integer\")\n",
        "else:\n",
        "    print(\"Fibonacci sequence:\")\n",
        "    for i in range(nterms):\n",
        "        print(fibonacci_recursive(i))"
      ],
      "execution_count": null,
      "outputs": [
        {
          "output_type": "stream",
          "text": [
            "How many terms? 26\n",
            "Fibonacci sequence:\n",
            "0\n",
            "1\n",
            "1\n",
            "2\n",
            "3\n",
            "5\n",
            "8\n",
            "13\n",
            "21\n",
            "34\n",
            "55\n",
            "89\n",
            "144\n",
            "233\n",
            "377\n",
            "610\n",
            "987\n",
            "1597\n",
            "2584\n",
            "4181\n",
            "6765\n",
            "10946\n",
            "17711\n",
            "28657\n",
            "46368\n",
            "75025\n"
          ],
          "name": "stdout"
        }
      ]
    }
  ]
}
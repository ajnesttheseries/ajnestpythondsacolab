{
  "nbformat": 4,
  "nbformat_minor": 0,
  "metadata": {
    "colab": {
      "name": "02 Aj. NesT Stacks in Python EP.1-5 ",
      "provenance": [],
      "collapsed_sections": []
    },
    "kernelspec": {
      "name": "python3",
      "display_name": "Python 3"
    }
  },
  "cells": [
    {
      "cell_type": "markdown",
      "metadata": {
        "id": "tTrAtmvzaqjX"
      },
      "source": [
        "# Data Structures and Algorithms\n",
        "\n",
        "**Todsapon Banklongsi (Aj. NesT the Series)**\n",
        "\n",
        "Facebook: [Aj. NesT the Series](https://www.facebook.com/ajnesttheseries)\n",
        "\n",
        "YouTube: [Aj. NesT the Series](https://www.youtube.com/ajnesttheseries)\n",
        "\n",
        "![alt text](http://res.cloudinary.com/dyd911kmh/image/upload/c_scale,f_auto,q_auto:best,w_700/v1512740202/Template_2_oxrskq.png)\n",
        "\n",
        "Image: DataCamp\n",
        "\n",
        "**Primitve Data Strcutures** คือ ข้อมูลที่ถูกกำหนดคุณสมบัติไว้แล้ว เราไม่สามารถกำหนดเพิ่มหรือสร้างเพิ่มได้อีก \n",
        "\n",
        "--> Ex. Integer, Float, String, Boolean \n",
        "\n",
        "**Non-Primitive Data Structures** คือ\n",
        "คือ ข้อมูลที่ยังไม่ถูกกำหนดคุณสมบัติ เราสามารถสร้างขึ้นมาใหม่และกำหนดคุณสมบัติของชนิดข้อมูลได้\n",
        "\n",
        "--> Ex. Array, List, Tuple, Dictionary, Set, File\n",
        "\n",
        "**Linear Data Structures** หรือ โครงสร้างข้อมูลเชิงเส้น คือ โครงสร้างที่มีการจัดเก็บข้อมูลหรือความสัมพันธ์ของข้อมูลในลักษณะเรียงต่อเนื่องกันเป็นลำดับ\n",
        "\n",
        "--> Ex. Array, List, Stack, Queue\n",
        "\n",
        "**Non-Linear Data Structures** หรือ โครงสร้างข้อมูลแบบไม่เชิงเส้น คือ โครงสร้างที่มีการจัดเก็บข้อมูลหรือความสัมพันธ์กับข้อมูลอื่นได้หลายตัว\n",
        "\n",
        "--> Ex. Graphs, Trees\n",
        "\n",
        "![alt text](https://miro.medium.com/max/1338/1*Xokk6XOjWyIGCBujkJsCzQ.jpeg)\n",
        "\n",
        "Image: Medium written by Vaidehi Joshi\n",
        "\n",
        "## Non-Primitive --> List --> Linear (Stacks)\n",
        "\n",
        "![alt text](https://res.cloudinary.com/practicaldev/image/fetch/s--Is8YL7Ba--/c_imagga_scale,f_auto,fl_progressive,h_500,q_auto,w_1000/https://cl.ly/d84e17fec485/Image%25202018-09-13%2520at%252012.22.09%2520PM.png)\n",
        "\n",
        "# Stacks (LIFO)\n",
        "\n",
        "***Data structures organize storage in computers so that we can efficiently access and change data. Stacks and Queues are some of the earliest data structures defined in computer science.***\n",
        "\n",
        "![alt text](https://www.wisdomjobs.com/userfiles/stack_example.jpg)\n",
        "\n",
        "Image: wisdomjobs.com\n",
        "\n",
        "**A stack is a collection of objects that supports fast Last-In, First-Out (LIFO) or First-In, Last-Out (FILO) semantics for inserts and deletes. Unlike lists or arrays, stacks typically don’t allow for random access to the objects they contain. The insert and delete operations are also often called Push and Pop.**\n",
        "\n",
        "Stacks have a wide range of uses in algorithms, for example in language parsing and runtime memory management (“call stack”). A short and beautiful algorithm using a stack is depth-first search (DFS) on a tree or graph data structure.\n",
        "\n",
        "![alt text](https://open4tech.com/wp-content/uploads/2018/12/word-image.png)\n",
        "\n",
        "Image: open4tech\n",
        "\n",
        "![alt text](https://i1.faceprep.in/Companies-1/stack%20data%20structure%20in%20c.png)\n",
        "\n",
        "Image: faceprep\n",
        "\n",
        "![alt text](https://i1.faceprep.in/Companies-1/stack-operations-in-c.gif)\n",
        "\n",
        "Image: faceprep"
      ]
    },
    {
      "cell_type": "markdown",
      "metadata": {
        "id": "0xKgYuXniTjN"
      },
      "source": [
        "## Stack Exercises "
      ]
    },
    {
      "cell_type": "markdown",
      "metadata": {
        "id": "pa9Crqi_jgMz"
      },
      "source": [
        "###Stack Exercise 1: Creating Stack using list Built-in --> List Functions\n",
        "\n",
        "Python’s built-in list type makes a decent stack data structure as it supports push and pop operations in amortized O(1) time.\n",
        "\n",
        "**The List Data Type**\n",
        "\n",
        "1) list.append(x) \n",
        "\n",
        "2) list.pop()\n",
        "\n",
        "3) list.count(x)\n",
        "\n",
        "4) list.index(x[ , start[ , end]])\n",
        "\n",
        "5) list.reverse()\n",
        "\n",
        "6) list.sort()\n",
        "\n",
        "7) list.exetend()\n",
        "\n",
        "8) list.insert(i, x)\n",
        "\n",
        "9) list.remove()\n",
        "\n",
        "10) list.clear()\n",
        "\n",
        "11) list.copy()"
      ]
    },
    {
      "cell_type": "code",
      "metadata": {
        "id": "qVIeETNp_LNY",
        "colab": {
          "base_uri": "https://localhost:8080/",
          "height": 406
        },
        "outputId": "d06d7b0a-d9af-4c80-9c94-18df7a70a6b2"
      },
      "source": [
        "#Stack Exercise 1: Creating Stack using list Built-in --> List Functions\n",
        "cplanguages = ['Python', 'C', 'Java', 'C++', 'C#', 'R', 'JavaScript', 'PHP', 'Go', 'Swift', 'Python', 'Java', 'Python']\n",
        "print(cplanguages)\n",
        "pyhon_count = cplanguages.count('Python')\n",
        "print(python_count)\n",
        "assembly_count = cplanguages.count('Assembly')\n",
        "print(assembly_count)\n",
        "java_count = cplanguages.count('Java')\n",
        "print(java_count)\n",
        "java_index = cplanguages.index('Java')\n",
        "print(java_index)\n",
        "python1_index = cplanguages.index('Python')\n",
        "print(python1_index)\n",
        "python2_index = cplanguages.index('Python', 4) #Find next Python start index[4]\n",
        "print(python2_index)\n",
        "python3_index = cplanguages.index('Python', 11)\n",
        "print(python3_index)\n",
        "print(cplanguages)\n",
        "cplanguages.reverse()\n",
        "print(cplanguages)\n",
        "r_count = cplanguages.index('R')\n",
        "print(r_count)\n",
        "cplanguages.sort()\n",
        "print(cplanguages)\n",
        "cplanguages.append('SQL')\n",
        "print(cplanguages)\n",
        "cplanguages.pop()\n",
        "print(cplanguages)\n",
        "cplanguages.pop()\n",
        "cplanguages.pop()\n",
        "print(cplanguages)\n",
        "cplanguages.extend(\"Aj.NesT\")\n",
        "print(cplanguages)\n",
        "cplanguages.insert(0, 'VB.NET')\n",
        "print(cplanguages)\n",
        "cplanguages.insert(6, 'Kotlin')\n",
        "print(cplanguages)\n",
        "cplanguages.remove('Java')\n",
        "print(cplanguages)\n",
        "cplanguages.remove('Python')\n",
        "cplanguages.remove('Python')\n",
        "print(cplanguages)\n",
        "New_Stack = cplanguages.copy()\n",
        "cplanguages.clear()\n",
        "print(cplanguages)\n",
        "print(New_Stack)"
      ],
      "execution_count": null,
      "outputs": [
        {
          "output_type": "stream",
          "text": [
            "['Python', 'C', 'Java', 'C++', 'C#', 'R', 'JavaScript', 'PHP', 'Go', 'Swift', 'Python', 'Java', 'Python']\n",
            "3\n",
            "0\n",
            "2\n",
            "2\n",
            "0\n",
            "10\n",
            "12\n",
            "['Python', 'C', 'Java', 'C++', 'C#', 'R', 'JavaScript', 'PHP', 'Go', 'Swift', 'Python', 'Java', 'Python']\n",
            "['Python', 'Java', 'Python', 'Swift', 'Go', 'PHP', 'JavaScript', 'R', 'C#', 'C++', 'Java', 'C', 'Python']\n",
            "7\n",
            "['C', 'C#', 'C++', 'Go', 'Java', 'Java', 'JavaScript', 'PHP', 'Python', 'Python', 'Python', 'R', 'Swift']\n",
            "['C', 'C#', 'C++', 'Go', 'Java', 'Java', 'JavaScript', 'PHP', 'Python', 'Python', 'Python', 'R', 'Swift', 'SQL']\n",
            "['C', 'C#', 'C++', 'Go', 'Java', 'Java', 'JavaScript', 'PHP', 'Python', 'Python', 'Python', 'R', 'Swift']\n",
            "['C', 'C#', 'C++', 'Go', 'Java', 'Java', 'JavaScript', 'PHP', 'Python', 'Python', 'Python']\n",
            "['C', 'C#', 'C++', 'Go', 'Java', 'Java', 'JavaScript', 'PHP', 'Python', 'Python', 'Python', 'A', 'j', '.', 'N', 'e', 's', 'T']\n",
            "['VB.NET', 'C', 'C#', 'C++', 'Go', 'Java', 'Java', 'JavaScript', 'PHP', 'Python', 'Python', 'Python', 'A', 'j', '.', 'N', 'e', 's', 'T']\n",
            "['VB.NET', 'C', 'C#', 'C++', 'Go', 'Java', 'Kotlin', 'Java', 'JavaScript', 'PHP', 'Python', 'Python', 'Python', 'A', 'j', '.', 'N', 'e', 's', 'T']\n",
            "['VB.NET', 'C', 'C#', 'C++', 'Go', 'Kotlin', 'Java', 'JavaScript', 'PHP', 'Python', 'Python', 'Python', 'A', 'j', '.', 'N', 'e', 's', 'T']\n",
            "['VB.NET', 'C', 'C#', 'C++', 'Go', 'Kotlin', 'Java', 'JavaScript', 'PHP', 'Python', 'A', 'j', '.', 'N', 'e', 's', 'T']\n",
            "[]\n",
            "['VB.NET', 'C', 'C#', 'C++', 'Go', 'Kotlin', 'Java', 'JavaScript', 'PHP', 'Python', 'A', 'j', '.', 'N', 'e', 's', 'T']\n"
          ],
          "name": "stdout"
        }
      ]
    },
    {
      "cell_type": "markdown",
      "metadata": {
        "id": "sQwxr4hu4IBZ"
      },
      "source": [
        "###Stack Exercise 2: Creating Stack using list Built-in --> stack = Empty"
      ]
    },
    {
      "cell_type": "code",
      "metadata": {
        "id": "7soVsQLYnURM",
        "colab": {
          "base_uri": "https://localhost:8080/",
          "height": 269
        },
        "outputId": "af2e2ab1-af05-4f20-f76b-fd591ddbac79"
      },
      "source": [
        "#Stack Exercise 2: Creating Stack using list Built-in --> stack = Empty\n",
        "stack1 = []\n",
        "stack1.append('Aj.NesT')\n",
        "print(stack1)\n",
        "stack1.append('love')\n",
        "print(stack1)\n",
        "stack1.append('Python')\n",
        "print(stack1)\n",
        "stack1.append('Programming')\n",
        "print(stack1)\n",
        "stack1.append(555)\n",
        "print(stack1)\n",
        "stack1.pop()\n",
        "print(stack1)\n",
        "stack1.pop()\n",
        "stack1.pop()\n",
        "print(stack1)\n",
        "stack1.append('Data')\n",
        "print(stack1)\n",
        "stack1.append('Structures')\n",
        "stack1.append('and Algorithms')\n",
        "print(stack1)\n",
        "pop_1 = stack1.pop()\n",
        "pop_2 = stack1.pop()\n",
        "pop_3 = stack1.pop()\n",
        "pop_4 = stack1.pop()\n",
        "pop_5 = stack1.pop()\n",
        "print(pop_1)\n",
        "print(pop_2)\n",
        "print(pop_3)\n",
        "print(pop_4)\n",
        "print(pop_5)\n",
        "print(stack1)"
      ],
      "execution_count": null,
      "outputs": [
        {
          "output_type": "stream",
          "text": [
            "['Aj.NesT']\n",
            "['Aj.NesT', 'love']\n",
            "['Aj.NesT', 'love', 'Python']\n",
            "['Aj.NesT', 'love', 'Python', 'Programming']\n",
            "['Aj.NesT', 'love', 'Python', 'Programming', 555]\n",
            "['Aj.NesT', 'love', 'Python', 'Programming']\n",
            "['Aj.NesT', 'love']\n",
            "['Aj.NesT', 'love', 'Data']\n",
            "['Aj.NesT', 'love', 'Data', 'Structures', 'and Algorithms']\n",
            "and Algorithms\n",
            "Structures\n",
            "Data\n",
            "love\n",
            "Aj.NesT\n",
            "[]\n"
          ],
          "name": "stdout"
        }
      ]
    },
    {
      "cell_type": "markdown",
      "metadata": {
        "id": "MNRdICQIRacA"
      },
      "source": [
        "###Stack Exercise 3: Creating Stack using list Built-in --> Automatics"
      ]
    },
    {
      "cell_type": "code",
      "metadata": {
        "id": "yxgfRBWik0iI",
        "colab": {
          "base_uri": "https://localhost:8080/",
          "height": 420
        },
        "outputId": "33a5d8a3-a718-472e-8f7f-a0985e339583"
      },
      "source": [
        "#Stack Exercise 3 Creating Stack using list Built-in --> Automatics\n",
        "stack2 = []\n",
        "print('\\nCurrent Stack: ', stack2)\n",
        "print('\\nPush items to the Stack')\n",
        "#Add Items to the Stack\n",
        "for i in range(9):\n",
        "  #push items into stack\n",
        "  stack2.append(i)\n",
        "  print('Current Stack :', stack2, '\\tStack Size :', len(stack2))\n",
        "\n",
        "print('\\nPop items from the Stack')\n",
        "#Pop items from the Stack\n",
        "while len(stack2) > 0: #Check if the Stack is empty\n",
        "  stack2.pop()\n",
        "  print('Current Stack :', stack2, '\\tStack Size :', len(stack2))"
      ],
      "execution_count": null,
      "outputs": [
        {
          "output_type": "stream",
          "text": [
            "\n",
            "Current Stack:  []\n",
            "\n",
            "Push items to the Stack\n",
            "Current Stack : [0] \tStack Size : 1\n",
            "Current Stack : [0, 1] \tStack Size : 2\n",
            "Current Stack : [0, 1, 2] \tStack Size : 3\n",
            "Current Stack : [0, 1, 2, 3] \tStack Size : 4\n",
            "Current Stack : [0, 1, 2, 3, 4] \tStack Size : 5\n",
            "Current Stack : [0, 1, 2, 3, 4, 5] \tStack Size : 6\n",
            "Current Stack : [0, 1, 2, 3, 4, 5, 6] \tStack Size : 7\n",
            "Current Stack : [0, 1, 2, 3, 4, 5, 6, 7] \tStack Size : 8\n",
            "Current Stack : [0, 1, 2, 3, 4, 5, 6, 7, 8] \tStack Size : 9\n",
            "\n",
            "Pop items from the Stack\n",
            "Current Stack : [0, 1, 2, 3, 4, 5, 6, 7] \tStack Size : 8\n",
            "Current Stack : [0, 1, 2, 3, 4, 5, 6] \tStack Size : 7\n",
            "Current Stack : [0, 1, 2, 3, 4, 5] \tStack Size : 6\n",
            "Current Stack : [0, 1, 2, 3, 4] \tStack Size : 5\n",
            "Current Stack : [0, 1, 2, 3] \tStack Size : 4\n",
            "Current Stack : [0, 1, 2] \tStack Size : 3\n",
            "Current Stack : [0, 1] \tStack Size : 2\n",
            "Current Stack : [0] \tStack Size : 1\n",
            "Current Stack : [] \tStack Size : 0\n"
          ],
          "name": "stdout"
        }
      ]
    },
    {
      "cell_type": "markdown",
      "metadata": {
        "id": "jQAhy9dmmUlB"
      },
      "source": [
        "###Stack Exercise 4: Python Stack Implementation --> Creating Stack Class for Calling push() and pop()\n",
        "As you see that we can utilize List append() and pop() functions to create our Stack implementation class. Here is a Stack implementation class with example."
      ]
    },
    {
      "cell_type": "code",
      "metadata": {
        "id": "p5vimNlFlzBz",
        "colab": {
          "base_uri": "https://localhost:8080/",
          "height": 118
        },
        "outputId": "a84165cf-7a3c-4b8f-f727-8240851d6554"
      },
      "source": [
        "#Stack Exercise 4: Python Stack Implementation --> Creating Stack Class for Calling push() and pop()\n",
        "class Stack:\n",
        "  def __init__(self):\n",
        "    self.items = [] \n",
        "\n",
        "  def isEmpty(self):\n",
        "    return self.items == []\n",
        "  \n",
        "  def push(self, item):\n",
        "    self.items.append(item)\n",
        "  \n",
        "  def pop(self):\n",
        "    return self.items.pop()\n",
        "  \n",
        "  def top(self):\n",
        "    return self.items[len(self.items)-1]\n",
        "\n",
        "  def size(self):\n",
        "    return len(self.items)    \n",
        "\n",
        "stack3 = Stack()\n",
        "stack3.push(3)\n",
        "stack3.push(6)\n",
        "stack3.push(9)\n",
        "stack3.push(\"Aj.NesT the Series\")\n",
        "stack3.push(\"Data Structures and Algorithms\")\n",
        "print('Pop the last item :', stack3.pop())\n",
        "print('Current top item is :', stack3.top())\n",
        "print('Pop the last item :', stack3.pop())\n",
        "print('Current top item is :', stack3.top())\n",
        "print('Pop the last item :', stack3.pop())\n",
        "print('Current top item is :', stack3.top())"
      ],
      "execution_count": null,
      "outputs": [
        {
          "output_type": "stream",
          "text": [
            "Pop the last item : Data Structures and Algorithms\n",
            "Current top item is : Aj.NesT the Series\n",
            "Pop the last item : Aj.NesT the Series\n",
            "Current top item is : 9\n",
            "Pop the last item : 9\n",
            "Current top item is : 6\n"
          ],
          "name": "stdout"
        }
      ]
    },
    {
      "cell_type": "markdown",
      "metadata": {
        "id": "i_S1vkAURsvP"
      },
      "source": [
        "###Stack Exercise 5: Coverting Decimal Numbers to Binary Numbers Using Stacks"
      ]
    },
    {
      "cell_type": "markdown",
      "metadata": {
        "id": "cKi4VFMN2QIg"
      },
      "source": [
        "![alt text](https://circuitglobe.com/wp-content/uploads/2016/09/decimal-to-binary-conversion-example-1.jpg)"
      ]
    },
    {
      "cell_type": "code",
      "metadata": {
        "id": "n1AgFFEqtiy5",
        "colab": {
          "base_uri": "https://localhost:8080/",
          "height": 68
        },
        "outputId": "58329a94-81d9-4306-8e6f-ef13c73044d4"
      },
      "source": [
        "#Stack Exercise 5: Coverting Decimal Numbers to Binary Numbers Using Stacks\n",
        "class Stack:\n",
        "  def __init__(self):\n",
        "    self.items = [] \n",
        "\n",
        "  def isEmpty(self):\n",
        "    return self.items == []\n",
        "  \n",
        "  def push(self, item):\n",
        "    self.items.append(item)\n",
        "  \n",
        "  def pop(self):\n",
        "    return self.items.pop()\n",
        "  \n",
        "  def top(self):\n",
        "    return self.items[len(self.items)-1]\n",
        "\n",
        "  def size(self):\n",
        "    return len(self.items) \n",
        "\n",
        "numberDec = 0\n",
        "numberBin = ''\n",
        "numberDec = int(input(\"Please enter the integer to covert: \"))\n",
        "print(\"Decimal Number is \", numberDec)\n",
        "\n",
        "DectoBin_Stack = Stack() #Create the Stack\n",
        "while numberDec > 0:\n",
        "  DectoBin_Stack.push(numberDec % 2)\n",
        "  numberDec = numberDec // 2\n",
        "while DectoBin_Stack.isEmpty() == False:\n",
        "  numberBin = numberBin + str(DectoBin_Stack.pop())\n",
        "print(\"Binary Number = \", numberBin)"
      ],
      "execution_count": null,
      "outputs": [
        {
          "output_type": "stream",
          "text": [
            "Please enter the integer to covert: 69\n",
            "Decimal Number is  69\n",
            "Binary Number =  1000101\n"
          ],
          "name": "stdout"
        }
      ]
    }
  ]
}